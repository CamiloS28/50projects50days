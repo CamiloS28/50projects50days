{
  "nbformat": 4,
  "nbformat_minor": 0,
  "metadata": {
    "colab": {
      "provenance": [],
      "authorship_tag": "ABX9TyOINHt7HarmjzlOUDvMzM9f",
      "include_colab_link": true
    },
    "kernelspec": {
      "name": "python3",
      "display_name": "Python 3"
    },
    "language_info": {
      "name": "python"
    }
  },
  "cells": [
    {
      "cell_type": "markdown",
      "metadata": {
        "id": "view-in-github",
        "colab_type": "text"
      },
      "source": [
        "<a href=\"https://colab.research.google.com/github/CamiloS28/50projects50days/blob/master/REDES_NEURONALES_CLASE_BIG_DATA.ipynb\" target=\"_parent\"><img src=\"https://colab.research.google.com/assets/colab-badge.svg\" alt=\"Open In Colab\"/></a>"
      ]
    },
    {
      "cell_type": "code",
      "execution_count": 1,
      "metadata": {
        "id": "6i3Nk_29KPAK"
      },
      "outputs": [],
      "source": [
        "import tensorflow as tf\n",
        "import numpy as np\n",
        "import matplotlib.pyplot as plt\n",
        "from keras.models import Sequential\n",
        "from keras.layers import Dense"
      ]
    },
    {
      "cell_type": "code",
      "source": [
        "x = np.linspace(1, 100, 100)\n",
        "y = x**2 + np.random.normal(5, 10, 100)"
      ],
      "metadata": {
        "id": "w3Agw9d5Kf59"
      },
      "execution_count": 2,
      "outputs": []
    },
    {
      "cell_type": "code",
      "source": [
        "print(x)\n",
        "print(y)"
      ],
      "metadata": {
        "colab": {
          "base_uri": "https://localhost:8080/"
        },
        "id": "Ap1N0zqOK2Tu",
        "outputId": "2e54f91e-6573-4607-a309-1999d87f23e2"
      },
      "execution_count": 3,
      "outputs": [
        {
          "output_type": "stream",
          "name": "stdout",
          "text": [
            "[  1.   2.   3.   4.   5.   6.   7.   8.   9.  10.  11.  12.  13.  14.\n",
            "  15.  16.  17.  18.  19.  20.  21.  22.  23.  24.  25.  26.  27.  28.\n",
            "  29.  30.  31.  32.  33.  34.  35.  36.  37.  38.  39.  40.  41.  42.\n",
            "  43.  44.  45.  46.  47.  48.  49.  50.  51.  52.  53.  54.  55.  56.\n",
            "  57.  58.  59.  60.  61.  62.  63.  64.  65.  66.  67.  68.  69.  70.\n",
            "  71.  72.  73.  74.  75.  76.  77.  78.  79.  80.  81.  82.  83.  84.\n",
            "  85.  86.  87.  88.  89.  90.  91.  92.  93.  94.  95.  96.  97.  98.\n",
            "  99. 100.]\n",
            "[-8.76021896e+00  9.99721652e+00 -3.72819488e+00  1.48314929e+01\n",
            "  4.38015686e+01  4.43567646e+01  6.25691969e+01  7.21026072e+01\n",
            "  7.39529248e+01  1.03975015e+02  1.22688632e+02  1.44633786e+02\n",
            "  1.89587895e+02  2.05402882e+02  2.14611319e+02  2.69780747e+02\n",
            "  2.92201884e+02  3.33689613e+02  3.63778521e+02  3.89095400e+02\n",
            "  4.48133696e+02  4.83685052e+02  5.27056721e+02  5.83107974e+02\n",
            "  6.26569741e+02  6.67256957e+02  7.40739572e+02  7.91830520e+02\n",
            "  8.36505142e+02  9.11945702e+02  9.69943497e+02  1.02183965e+03\n",
            "  1.10312033e+03  1.16031954e+03  1.26634487e+03  1.31750585e+03\n",
            "  1.37409582e+03  1.43669025e+03  1.53111504e+03  1.59425125e+03\n",
            "  1.67562706e+03  1.75986682e+03  1.86367391e+03  1.92891933e+03\n",
            "  2.03185571e+03  2.12563343e+03  2.20711963e+03  2.30784190e+03\n",
            "  2.39731091e+03  2.49586547e+03  2.61701502e+03  2.71477431e+03\n",
            "  2.82752646e+03  2.92717021e+03  3.01958458e+03  3.12804748e+03\n",
            "  3.25168315e+03  3.37868199e+03  3.48809841e+03  3.60614763e+03\n",
            "  3.71313203e+03  3.85927330e+03  3.96797853e+03  4.10849421e+03\n",
            "  4.22588886e+03  4.36534131e+03  4.50280349e+03  4.63208908e+03\n",
            "  4.76168518e+03  4.89681059e+03  5.06163299e+03  5.17946723e+03\n",
            "  5.34897119e+03  5.46827051e+03  5.63050142e+03  5.78122651e+03\n",
            "  5.94783676e+03  6.07558288e+03  6.23231806e+03  6.39999823e+03\n",
            "  6.55543908e+03  6.73389964e+03  6.89014597e+03  7.03890082e+03\n",
            "  7.22972924e+03  7.41385743e+03  7.56545351e+03  7.75698166e+03\n",
            "  7.92089931e+03  8.10502799e+03  8.30017646e+03  8.47973036e+03\n",
            "  8.65123050e+03  8.83858481e+03  9.03501719e+03  9.22307340e+03\n",
            "  9.41584732e+03  9.59481592e+03  9.82121060e+03  9.99141154e+03]\n"
          ]
        }
      ]
    },
    {
      "cell_type": "code",
      "source": [
        "plt.plot(x,y)\n",
        "plt.show()"
      ],
      "metadata": {
        "colab": {
          "base_uri": "https://localhost:8080/",
          "height": 430
        },
        "id": "f-LUUB7QLBQN",
        "outputId": "a7c2515e-870c-43e6-dc56-21b84ec5e0ae"
      },
      "execution_count": 4,
      "outputs": [
        {
          "output_type": "display_data",
          "data": {
            "text/plain": [
              "<Figure size 640x480 with 1 Axes>"
            ],
            "image/png": "[encoded data removed]"
          },
          "metadata": {}
        }
      ]
    },
    {
      "cell_type": "markdown",
      "source": [
        "##Estimación modelo  RNN"
      ],
      "metadata": {
        "id": "08vjtbzBLqVd"
      }
    },
    {
      "cell_type": "code",
      "source": [
        "model = Sequential() ##Crear el moldelo de rnn\n",
        "model.add(Dense(128, input_dim=1, activation = 'relu')) ##Capa de entrada\n",
        "model.add(Dense(64, activation = 'relu')) ##Capa oculta\n",
        "model.add(Dense(32, activation = 'relu')) ##Capa de salida\n",
        "model.add(Dense(16, activation = 'relu')) ##Capa de salida\n",
        "model.add(Dense(1, activation = 'linear')) ##Capa de salida\n"
      ],
      "metadata": {
        "colab": {
          "base_uri": "https://localhost:8080/"
        },
        "id": "-uxQtXTXLwyV",
        "outputId": "821b6faf-2673-4493-b3df-781d25a5214d"
      },
      "execution_count": 6,
      "outputs": [
        {
          "output_type": "stream",
          "name": "stderr",
          "text": [
            "/usr/local/lib/python3.11/dist-packages/keras/src/layers/core/dense.py:87: UserWarning: Do not pass an `input_shape`/`input_dim` argument to a layer. When using Sequential models, prefer using an `Input(shape)` object as the first layer in the model instead.\n",
            "  super().__init__(activity_regularizer=activity_regularizer, **kwargs)\n"
          ]
        }
      ]
    },
    {
      "cell_type": "code",
      "source": [
        "model.compile(loss='mse',\n",
        "              optimizer='adam',\n",
        "              metrics=['accuracy'])"
      ],
      "metadata": {
        "id": "P-_jnfUAMAZ1"
      },
      "execution_count": 7,
      "outputs": []
    },
    {
      "cell_type": "code",
      "source": [
        "model.fit(x,y, epochs=100, batch_size=10, verbose=0)"
      ],
      "metadata": {
        "colab": {
          "base_uri": "https://localhost:8080/"
        },
        "id": "J4AqHJR7OhK-",
        "outputId": "d367df45-4604-4c38-aa4b-b04f6dc28098"
      },
      "execution_count": 10,
      "outputs": [
        {
          "output_type": "execute_result",
          "data": {
            "text/plain": [
              "<keras.src.callbacks.history.History at 0x7e3b7193eed0>"
            ]
          },
          "metadata": {},
          "execution_count": 10
        }
      ]
    },
    {
      "cell_type": "code",
      "source": [
        "y_pred = model.predict(x)"
      ],
      "metadata": {
        "colab": {
          "base_uri": "https://localhost:8080/"
        },
        "id": "GWNe_2GZRU3u",
        "outputId": "ddf8e193-965b-42f3-b103-81f353df6624"
      },
      "execution_count": 11,
      "outputs": [
        {
          "output_type": "stream",
          "name": "stdout",
          "text": [
            "\u001b[1m4/4\u001b[0m \u001b[32m━━━━━━━━━━━━━━━━━━━━\u001b[0m\u001b[37m\u001b[0m \u001b[1m0s\u001b[0m 29ms/step\n"
          ]
        }
      ]
    },
    {
      "cell_type": "code",
      "source": [
        "plt.plot(x,y, color = \"BLUE\")\n",
        "plt.plot(x,y_pred, color = \"RED\")\n",
        "plt.show()"
      ],
      "metadata": {
        "colab": {
          "base_uri": "https://localhost:8080/",
          "height": 430
        },
        "id": "rCVyur3QRYid",
        "outputId": "dd08384b-9592-4097-dda2-63917753120a"
      },
      "execution_count": 12,
      "outputs": [
        {
          "output_type": "display_data",
          "data": {
            "text/plain": [
              "<Figure size 640x480 with 1 Axes>"
            ],
            "image/png": "[encoded data removed]"
          },
          "metadata": {}
        }
      ]
    },
    {
      "cell_type": "code",
      "source": [],
      "metadata": {
        "id": "ozzaPqxTR88V"
      },
      "execution_count": null,
      "outputs": []
    },
    {
      "cell_type": "markdown",
      "source": [],
      "metadata": {
        "id": "QW-emiJPSFb_"
      }
    },
    {
      "cell_type": "code",
      "source": [],
      "metadata": {
        "id": "MLZcpHk8SGKG"
      },
      "execution_count": null,
      "outputs": []
    }
  ]
}